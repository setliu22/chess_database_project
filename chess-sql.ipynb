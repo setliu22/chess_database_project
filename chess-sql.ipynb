{
 "cells": [
  {
   "cell_type": "code",
   "execution_count": 5,
   "metadata": {},
   "outputs": [
    {
     "name": "stdout",
     "output_type": "stream",
     "text": [
      "Dataset URL: https://www.kaggle.com/datasets/arevel/chess-games\n"
     ]
    }
   ],
   "source": [
    "from kaggle.api.kaggle_api_extended import KaggleApi\n",
    "import zipfile\n",
    "import os\n",
    "\n",
    "api = KaggleApi()\n",
    "api.authenticate()\n",
    "\n",
    "dataset = 'arevel/chess-games'  # Example: 'zillow/zecon'\n",
    "\n",
    "api.dataset_download_files(dataset, path='.', unzip=True)"
   ]
  },
  {
   "cell_type": "code",
   "execution_count": null,
   "metadata": {},
   "outputs": [
    {
     "name": "stdout",
     "output_type": "stream",
     "text": [
      "[(' Classical ', 'eisaaaa', 'HAMID449', '1-0', '2016.06.30', '22:00:01', 1901, 1896, 11.0, -11.0, 'D10', 'Slav Defense', '300+5', 'Time forfeit', '1. d4 d5 2. c4 c6 3. e3 a6 4. Nf3 e5 5. cxd5 e4 6. Ne5 cxd5 7. Qa4+ Bd7 8. Nxd7 Nxd7 9. Nc3 Nf6 10. Qb3 Be7 11. Nxd5 Qa5+ 12. Nc3 O-O 13. Be2 b5 14. O-O Rad8 15. Bd2 Qc7 16. Rac1 Qd6 17. Qc2 Qe6 18. Nb1 Bd6 19. a3 Nb6 20. Qc6 Nfd5 21. Ba5 Rc8 22. Qb7 Qh6 23. h3 Nc4 24. Bxc4 bxc4 25. Qxd5 Rfd8 26. Qxe4 Rd7 27. Bc3 Re7 28. Qf3 Re6 29. Nd2 Rf6 30. Qg4 Re8 31. Ne4 Rg6 32. Qd7 Rf8 33. Nxd6 Rxd6 34. Qc7 Rg6 35. Qh2 Re8 36. d5 f6 37. d6 Rd8 38. Rfd1 1-0'), (' Blitz ', 'go4jas', 'Sergei1973', '0-1', '2016.06.30', '22:00:01', 1641, 1627, -11.0, 12.0, 'C20', \"King's Pawn Opening: 2.b3\", '300+0', 'Normal', '1. e4 e5 2. b3 Nf6 3. Bb2 Nc6 4. Nf3 d6 5. d3 g6 6. Nbd2 Bg7 7. g3 Be6 8. Bg2 Qd7 9. O-O O-O 10. c3 b5 11. d4 exd4 12. cxd4 Bg4 13. Rc1 Rfe8 14. Qc2 Nb4 15. Qxc7 Qxc7 16. Rxc7 Nxa2 17. Ra1 Nb4 18. Raxa7 Rxa7 19. Rxa7 Nxe4 20. Nxe4 Rxe4 21. Ng5 Re1+ 22. Bf1 Be2 23. Rxf7 Bxf1 24. Kh1 Bh3# 0-1'), (' Blitz tournament ', 'Evangelistaizac', 'kafune', '1-0', '2016.06.30', '22:00:02', 1647, 1688, 13.0, -13.0, 'B01', 'Scandinavian Defense: Mieses-Kotroc Variation', '180+0', 'Time forfeit', '1. e4 d5 2. exd5 Qxd5 3. Nf3 Bg4 4. Be2 Nf6 5. Nc3 Qd8 6. O-O Nc6 7. Bc4 e6 8. h3 Bh5 9. d3 Bd6 10. Bg5 Ne5 11. g4 Nxf3+ 12. Qxf3 Bg6 13. Bxf6 gxf6 14. h4 h5 15. gxh5 Bxh5 16. Qxb7 Bg4 17. Qc6+ Ke7 18. Rae1 Rxh4 19. Nd5+ Kf8 20. Nxf6 Qxf6 21. Qxa8+ Kg7 22. Qg2 Bh2+ 23. Qxh2 Rxh2 24. Kxh2 Qh4+ 25. Kg2 Qh3+ 26. Kg1 Qf3 27. Re3 Qf5 28. Rg3 Kf8 29. f3 Bh5 30. Rf2 Bg6 31. Rh2 1-0'), (' Correspondence ', 'Jvayne', 'Wsjvayne', '1-0', '2016.06.30', '22:00:02', 1706, 1317, 27.0, -25.0, 'A00', \"Van't Kruijs Opening\", '-', 'Normal', '1. e3 Nf6 2. Bc4 d6 3. e4 e6 4. Nf3 Nxe4 5. Nd4 Nxf2 6. Kxf2 Qh4+ 7. g3 Qxg3+ 8. Kxg3 d5 9. Bb5+ c6 10. Bf1 e5 11. Nf3 e4 12. Ne5 f6 13. Ng4 h5 14. Nf2 h4+ 15. Kf4 Bh3 16. Nxh3 g5+ 17. Nxg5 fxg5+ 18. Kxg5 Rh5+ 19. Qxh5+ Kd7 20. Qf7+ Kd6 21. Qxf8+ Kc7 22. Qf4+ Kb6 23. Qf2+ Kc7 24. Qf4+ Kc8 25. Bh3+ Kd8 26. Qd6+ Nd7 27. Bxd7 d4 28. d3 exd3 29. cxd3 b5 30. Kxh4 Rb8 31. Bg5# 1-0'), (' Blitz tournament ', 'kyoday', 'BrettDale', '0-1', '2016.06.30', '22:00:02', 1945, 1900, -14.0, 13.0, 'B90', 'Sicilian Defense: Najdorf, Lipnitsky Attack', '180+0', 'Time forfeit', '1. e4 c5 2. Nf3 d6 3. d4 cxd4 4. Nxd4 Nf6 5. Nc3 a6 6. Bc4 Qc7 7. Bb3 b5 8. O-O Bb7 9. Re1 Nbd7 10. Be3 g6 11. f3 Bg7 12. Qe2 O-O 13. Rad1 b4 14. Na4 a5 15. Qf2 Rfc8 16. Ne2 Qd8 17. Bb6 Qe8 18. Be3 Ra6 19. c4 Nh5 20. Ng3 Nxg3 21. hxg3 Bc6 22. Qd2 Be5 23. Kf2 Ba8 24. Bd4 Rac6 25. f4 Bf6 26. g4 Nc5 27. Nxc5 dxc5 28. Be3 e5 29. f5 Be7 30. Kf3 Rd6 31. Qe2 Rcd8 32. Rxd6 Rxd6 33. Rd1 Qd7 34. Rxd6 Qxd6 35. Qd1 Qf6 36. Qd7 Bc6 37. Qc8+ Kg7 38. g5 Qd6 39. f6+ Bxf6 40. gxf6+ Qxf6+ 41. Ke2 Bxe4 42. Qg4 Bf5 43. Qg5 Qd6 44. Qh6+ Kg8 45. Ba4 Qd3+ 46. Kf2 Be6 47. Qg5 Qf5+ 48. Qxf5 Bxf5 49. b3 Be6 50. Bc1 f5 51. a3 e4 52. axb4 axb4 0-1')]\n"
     ]
    }
   ],
   "source": [
    "import sqlite3\n",
    "import pandas as pd\n",
    "\n",
    "conn = sqlite3.connect('chess_games.db')\n",
    "cursor = conn.cursor()\n",
    "\n",
    "df = pd.read_csv('chess_games.csv')\n",
    "\n",
    "df.to_sql('Games', conn, if_exists='replace', index=False)\n",
    "\n",
    "cursor.execute('SELECT * FROM Games LIMIT 5')\n",
    "print(cursor.fetchall())"
   ]
  },
  {
   "cell_type": "code",
   "execution_count": 7,
   "metadata": {},
   "outputs": [
    {
     "name": "stdout",
     "output_type": "stream",
     "text": [
      "                Event            White       Black Result     UTCDate  \\\n",
      "0          Classical           eisaaaa    HAMID449    1-0  2016.06.30   \n",
      "1              Blitz            go4jas  Sergei1973    0-1  2016.06.30   \n",
      "2   Blitz tournament   Evangelistaizac      kafune    1-0  2016.06.30   \n",
      "3     Correspondence            Jvayne    Wsjvayne    1-0  2016.06.30   \n",
      "4   Blitz tournament            kyoday   BrettDale    0-1  2016.06.30   \n",
      "\n",
      "    UTCTime  WhiteElo  BlackElo  WhiteRatingDiff  BlackRatingDiff  ECO  \\\n",
      "0  22:00:01      1901      1896             11.0            -11.0  D10   \n",
      "1  22:00:01      1641      1627            -11.0             12.0  C20   \n",
      "2  22:00:02      1647      1688             13.0            -13.0  B01   \n",
      "3  22:00:02      1706      1317             27.0            -25.0  A00   \n",
      "4  22:00:02      1945      1900            -14.0             13.0  B90   \n",
      "\n",
      "                                         Opening TimeControl   Termination  \\\n",
      "0                                   Slav Defense       300+5  Time forfeit   \n",
      "1                      King's Pawn Opening: 2.b3       300+0        Normal   \n",
      "2  Scandinavian Defense: Mieses-Kotroc Variation       180+0  Time forfeit   \n",
      "3                           Van't Kruijs Opening           -        Normal   \n",
      "4    Sicilian Defense: Najdorf, Lipnitsky Attack       180+0  Time forfeit   \n",
      "\n",
      "                                                  AN  \n",
      "0  1. d4 d5 2. c4 c6 3. e3 a6 4. Nf3 e5 5. cxd5 e...  \n",
      "1  1. e4 e5 2. b3 Nf6 3. Bb2 Nc6 4. Nf3 d6 5. d3 ...  \n",
      "2  1. e4 d5 2. exd5 Qxd5 3. Nf3 Bg4 4. Be2 Nf6 5....  \n",
      "3  1. e3 Nf6 2. Bc4 d6 3. e4 e6 4. Nf3 Nxe4 5. Nd...  \n",
      "4  1. e4 c5 2. Nf3 d6 3. d4 cxd4 4. Nxd4 Nf6 5. N...  \n"
     ]
    }
   ],
   "source": [
    "print(df.head())"
   ]
  },
  {
   "cell_type": "code",
   "execution_count": 9,
   "metadata": {},
   "outputs": [
    {
     "name": "stdout",
     "output_type": "stream",
     "text": [
      "(\"Van't Kruijs Opening\", 69116)\n",
      "('Scandinavian Defense: Mieses-Kotroc Variation', 56369)\n",
      "('Scandinavian Defense', 43780)\n",
      "('Modern Defense', 39550)\n",
      "('Sicilian Defense', 39397)\n",
      "('Horwitz Defense', 38183)\n",
      "('Philidor Defense #3', 36863)\n",
      "('French Defense: Knight Variation', 36750)\n",
      "(\"Queen's Pawn Game #2\", 33739)\n",
      "('Sicilian Defense: Bowdler Attack', 32897)\n"
     ]
    }
   ],
   "source": [
    "query = '''\n",
    "SELECT Opening, \n",
    "       COUNT(*)\n",
    "FROM Games\n",
    "WHERE WhiteElo BETWEEN 1200 AND 1600 OR BlackElo BETWEEN 1200 AND 1600\n",
    "GROUP BY Opening\n",
    "ORDER BY COUNT(*) DESC\n",
    "LIMIT 10;\n",
    "'''\n",
    "\n",
    "cursor.execute(query)\n",
    "popular_openings = cursor.fetchall()\n",
    "\n",
    "for opening in popular_openings:\n",
    "    print(opening)"
   ]
  },
  {
   "cell_type": "code",
   "execution_count": null,
   "metadata": {},
   "outputs": [
    {
     "name": "stdout",
     "output_type": "stream",
     "text": [
      "Event | EloCategory | DrawRate\n",
      "--------------------------------------------------\n",
      "Blitz  | Intermediate | 33.333333333333336\n",
      "Bullet  | Advanced | 20.0\n",
      " Correspondence  | Expert | 8.887468030690536\n",
      " Correspondence  | Intermediate | 6.573896353166987\n",
      " Classical tournament  | Expert | 6.049432739059967\n",
      " Blitz tournament  | Expert | 5.593663448347268\n",
      " Classical  | Expert | 5.497502063386053\n",
      " Blitz  | Expert | 5.309363445643587\n",
      " Correspondence  | Advanced | 4.692194591830211\n",
      " Bullet tournament  | Expert | 4.331190073322053\n"
     ]
    }
   ],
   "source": [
    "\n",
    "query = '''\n",
    "SELECT \n",
    "    Event,\n",
    "    CASE \n",
    "        WHEN WhiteElo < 1000 AND BlackElo < 1000 THEN 'Beginner'\n",
    "        WHEN (WhiteElo BETWEEN 1000 AND 1399) OR (BlackElo BETWEEN 1000 AND 1399) THEN 'Intermediate'\n",
    "        WHEN (WhiteElo BETWEEN 1400 AND 1799) OR (BlackElo BETWEEN 1400 AND 1799) THEN 'Advanced'\n",
    "        ELSE 'Expert'\n",
    "    END AS EloCategory,\n",
    "    COUNT(CASE WHEN Result = '1/2-1/2' THEN 1 END) * 100.0 / COUNT(*) AS DrawRate\n",
    "FROM Games\n",
    "GROUP BY Event, EloCategory\n",
    "ORDER BY DrawRate DESC\n",
    "LIMIT 10;\n",
    "'''\n",
    "\n",
    "\"\"\"\n",
    "SQL Logical Processing Order\n",
    "\n",
    "FROM:\n",
    "WHERE: Filter out.\n",
    "GROUP BY: Group by.\n",
    "SELECT: Aggregate functions, data you want to see.\n",
    "ORDER BY: Sorted.\n",
    "\n",
    "Syntax: write SELECT first.\n",
    "\"\"\"\n",
    "\n",
    "cursor.execute(query)\n",
    "\n",
    "results = cursor.fetchall()\n",
    "\n",
    "column_names = [description[0] for description in cursor.description]\n",
    "print(\" | \".join(column_names))\n",
    "print(\"-\" * 50)\n",
    "\n",
    "for row in results:\n",
    "    print(\" | \".join([str(value) for value in row]))"
   ]
  },
  {
   "cell_type": "code",
   "execution_count": 20,
   "metadata": {},
   "outputs": [],
   "source": [
    "conn.close()"
   ]
  }
 ],
 "metadata": {
  "kernelspec": {
   "display_name": "base",
   "language": "python",
   "name": "python3"
  },
  "language_info": {
   "codemirror_mode": {
    "name": "ipython",
    "version": 3
   },
   "file_extension": ".py",
   "mimetype": "text/x-python",
   "name": "python",
   "nbconvert_exporter": "python",
   "pygments_lexer": "ipython3",
   "version": "3.11.7"
  }
 },
 "nbformat": 4,
 "nbformat_minor": 2
}
